{
 "cells": [
  {
   "cell_type": "markdown",
   "metadata": {},
   "source": [
    "# Imports"
   ]
  },
  {
   "cell_type": "code",
   "execution_count": null,
   "metadata": {},
   "outputs": [],
   "source": [
    "from pathlib import Path\n",
    "from rdkit import Chem\n",
    "import pandas as pd\n",
    "from rdkit.Chem import rdDepictor as AllChem\n",
    "from rdkit.Chem import Draw"
   ]
  },
  {
   "cell_type": "markdown",
   "metadata": {},
   "source": [
    "# View Mol Filenames"
   ]
  },
  {
   "cell_type": "code",
   "execution_count": null,
   "metadata": {},
   "outputs": [],
   "source": [
    "molPath1k = Path(\"1k_mol/train\")\n",
    "molPath16k = Path(\"16k_mol/train\")\n",
    "\n",
    "files = list(molPath1k.iterdir())\n",
    "print(*files, sep='\\n')"
   ]
  },
  {
   "cell_type": "markdown",
   "metadata": {},
   "source": [
    "# Find Max Number of Atoms, Bonds, and Rings"
   ]
  },
  {
   "cell_type": "code",
   "execution_count": null,
   "metadata": {},
   "outputs": [],
   "source": [
    "maxAtoms = 0\n",
    "maxBonds = 0\n",
    "maxRings = 0\n",
    "for file in files:\n",
    "    tempM = Chem.MolFromMol2File(str(file))\n",
    "    if (not tempM == None) and (maxAtoms < tempM.GetNumAtoms()):\n",
    "        maxAtoms = tempM.GetNumAtoms()\n",
    "    if (not tempM == None) and (maxBonds < tempM.GetNumBonds()):\n",
    "        maxBonds = tempM.GetNumAtoms()\n",
    "    if (not tempM == None) and (maxRings < Chem.GetSSSR(tempM)):\n",
    "        maxRings = Chem.GetSSSR(tempM)\n",
    "        \n",
    "print('maxAtoms: {0} | maxBonds: {1} | maxRings: {2}'.format(maxAtoms, maxBonds, maxRings))"
   ]
  },
  {
   "cell_type": "markdown",
   "metadata": {},
   "source": [
    "# Load Mol"
   ]
  },
  {
   "cell_type": "code",
   "execution_count": null,
   "metadata": {},
   "outputs": [],
   "source": [
    "print(\"Opening: {0}\".format(str(files[10])))\n",
    "\n",
    "molFile = str(files[10])\n",
    "m = Chem.MolFromMol2File(molFile)\n",
    "\n",
    "print(m)"
   ]
  },
  {
   "cell_type": "markdown",
   "metadata": {},
   "source": [
    "# Print Atom and Bond Info"
   ]
  },
  {
   "cell_type": "code",
   "execution_count": null,
   "metadata": {},
   "outputs": [],
   "source": [
    "molSmiles = Chem.MolToSmiles(m)\n",
    "\n",
    "print(\"SMILE: {0}\".format(molSmiles))\n",
    "\n",
    "atoms = m.GetAtoms()\n",
    "bonds = m.GetBonds()\n",
    "\n",
    "print(\"Num Atoms: {0} | Num Bonds {1}\".format(len(atoms), len(bonds)))\n",
    "\n",
    "for i, a in enumerate(atoms): \n",
    "    print(\"Atom #{0} | Atomic Num: {1} | Symbol: {2} | Valence: {3}\".format(i, a.GetAtomicNum(), a.GetSymbol(), a.GetExplicitValence()))\n",
    "    \n",
    "for i, b in enumerate(bonds):\n",
    "    print(\"Bond #{0} | Bond Type: {1} | Begin Atom Index: {2} | End Atom Index: {3}\".format(i, b.GetBondType(), b.GetBeginAtomIdx(), b.GetEndAtomIdx()))"
   ]
  },
  {
   "cell_type": "markdown",
   "metadata": {},
   "source": [
    "# Print Ring Info"
   ]
  },
  {
   "cell_type": "code",
   "execution_count": null,
   "metadata": {},
   "outputs": [],
   "source": [
    "ssr = Chem.GetSymmSSSR(m)\n",
    "\n",
    "print('Total Rings: {0}'.format(Chem.GetSSSR(m)))\n",
    "\n",
    "for i, ring in enumerate(ssr):\n",
    "    print('Ring {0}: {1}'.format(i, list(ring)))"
   ]
  },
  {
   "cell_type": "markdown",
   "metadata": {},
   "source": [
    "# Visualize From Mol File"
   ]
  },
  {
   "cell_type": "code",
   "execution_count": null,
   "metadata": {},
   "outputs": [],
   "source": [
    "Draw.MolToImage(m)"
   ]
  },
  {
   "cell_type": "code",
   "execution_count": null,
   "metadata": {},
   "outputs": [],
   "source": [
    "# pip install py3Dmol\n",
    "import py3Dmol\n",
    "\n",
    "def drawit(m,p=None,confId=-1):\n",
    "        mb = Chem.MolToMolBlock(m,confId=confId)\n",
    "        if p is None:\n",
    "            p = py3Dmol.view(width=400,height=400)\n",
    "        p.removeAllModels()\n",
    "        p.addModel(mb,'sdf')\n",
    "        p.setStyle({'stick':{}})\n",
    "        p.setBackgroundColor('0xeeeeee')\n",
    "        p.zoomTo()\n",
    "        return p.show()"
   ]
  },
  {
   "cell_type": "code",
   "execution_count": null,
   "metadata": {
    "scrolled": false
   },
   "outputs": [],
   "source": [
    "drawit(m)"
   ]
  },
  {
   "cell_type": "markdown",
   "metadata": {},
   "source": [
    "# Visualize From SMILE into Mol File (2D info only)"
   ]
  },
  {
   "cell_type": "code",
   "execution_count": null,
   "metadata": {},
   "outputs": [],
   "source": [
    "smileInfo = Chem.MolToSmiles(m)\n",
    "m2 = Chem.MolFromSmiles(smileInfo)"
   ]
  },
  {
   "cell_type": "code",
   "execution_count": null,
   "metadata": {},
   "outputs": [],
   "source": [
    "AllChem.Compute2DCoords(m)\n",
    "Draw.MolToImage(m)"
   ]
  },
  {
   "cell_type": "code",
   "execution_count": null,
   "metadata": {
    "scrolled": false
   },
   "outputs": [],
   "source": [
    "drawit(m2)"
   ]
  }
 ],
 "metadata": {
  "kernelspec": {
   "display_name": "Python rdkit",
   "language": "python",
   "name": "my-rdkit-env"
  },
  "language_info": {
   "codemirror_mode": {
    "name": "ipython",
    "version": 3
   },
   "file_extension": ".py",
   "mimetype": "text/x-python",
   "name": "python",
   "nbconvert_exporter": "python",
   "pygments_lexer": "ipython3",
   "version": "3.6.8"
  }
 },
 "nbformat": 4,
 "nbformat_minor": 2
}
